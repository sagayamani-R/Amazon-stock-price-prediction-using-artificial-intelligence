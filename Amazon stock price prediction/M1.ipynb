{
 "cells": [
  {
   "cell_type": "markdown",
   "id": "03ad6ed6",
   "metadata": {},
   "source": [
    "# DataPreprocessing"
   ]
  },
  {
   "cell_type": "code",
   "execution_count": 17,
   "id": "e52ed8c3",
   "metadata": {},
   "outputs": [],
   "source": [
    "import warnings\n",
    "warnings.filterwarnings('ignore')"
   ]
  },
  {
   "cell_type": "code",
   "execution_count": 18,
   "id": "a4f11544",
   "metadata": {},
   "outputs": [],
   "source": [
    "import pandas as pd"
   ]
  },
  {
   "cell_type": "code",
   "execution_count": 19,
   "id": "19f3bd44",
   "metadata": {},
   "outputs": [],
   "source": [
    "data = pd.read_csv('news_dataset.csv')"
   ]
  },
  {
   "cell_type": "code",
   "execution_count": 20,
   "id": "0e349208",
   "metadata": {},
   "outputs": [
    {
     "data": {
      "text/html": [
       "<div>\n",
       "<style scoped>\n",
       "    .dataframe tbody tr th:only-of-type {\n",
       "        vertical-align: middle;\n",
       "    }\n",
       "\n",
       "    .dataframe tbody tr th {\n",
       "        vertical-align: top;\n",
       "    }\n",
       "\n",
       "    .dataframe thead th {\n",
       "        text-align: right;\n",
       "    }\n",
       "</style>\n",
       "<table border=\"1\" class=\"dataframe\">\n",
       "  <thead>\n",
       "    <tr style=\"text-align: right;\">\n",
       "      <th></th>\n",
       "      <th>label</th>\n",
       "      <th>text</th>\n",
       "    </tr>\n",
       "  </thead>\n",
       "  <tbody>\n",
       "    <tr>\n",
       "      <th>0</th>\n",
       "      <td>REAL</td>\n",
       "      <td>Payal has accused filmmaker Anurag Kashyap of ...</td>\n",
       "    </tr>\n",
       "    <tr>\n",
       "      <th>1</th>\n",
       "      <td>FAKE</td>\n",
       "      <td>A four-minute-long video of a woman criticisin...</td>\n",
       "    </tr>\n",
       "    <tr>\n",
       "      <th>2</th>\n",
       "      <td>FAKE</td>\n",
       "      <td>Republic Poll, a fake Twitter account imitatin...</td>\n",
       "    </tr>\n",
       "    <tr>\n",
       "      <th>3</th>\n",
       "      <td>REAL</td>\n",
       "      <td>Delhi teen finds place on UN green list, turns...</td>\n",
       "    </tr>\n",
       "    <tr>\n",
       "      <th>4</th>\n",
       "      <td>REAL</td>\n",
       "      <td>Delhi: A high-level meeting underway at reside...</td>\n",
       "    </tr>\n",
       "  </tbody>\n",
       "</table>\n",
       "</div>"
      ],
      "text/plain": [
       "  label                                               text\n",
       "0  REAL  Payal has accused filmmaker Anurag Kashyap of ...\n",
       "1  FAKE  A four-minute-long video of a woman criticisin...\n",
       "2  FAKE  Republic Poll, a fake Twitter account imitatin...\n",
       "3  REAL  Delhi teen finds place on UN green list, turns...\n",
       "4  REAL  Delhi: A high-level meeting underway at reside..."
      ]
     },
     "execution_count": 20,
     "metadata": {},
     "output_type": "execute_result"
    }
   ],
   "source": [
    "data.head()"
   ]
  },
  {
   "cell_type": "code",
   "execution_count": 21,
   "id": "0efe9077",
   "metadata": {},
   "outputs": [
    {
     "data": {
      "text/plain": [
       "(3729, 2)"
      ]
     },
     "execution_count": 21,
     "metadata": {},
     "output_type": "execute_result"
    }
   ],
   "source": [
    "data.shape"
   ]
  },
  {
   "cell_type": "code",
   "execution_count": 22,
   "id": "4acff3ed",
   "metadata": {},
   "outputs": [
    {
     "name": "stdout",
     "output_type": "stream",
     "text": [
      "<class 'pandas.core.frame.DataFrame'>\n",
      "RangeIndex: 3729 entries, 0 to 3728\n",
      "Data columns (total 2 columns):\n",
      " #   Column  Non-Null Count  Dtype \n",
      "---  ------  --------------  ----- \n",
      " 0   label   3729 non-null   object\n",
      " 1   text    3721 non-null   object\n",
      "dtypes: object(2)\n",
      "memory usage: 58.4+ KB\n"
     ]
    }
   ],
   "source": [
    "data.info()"
   ]
  },
  {
   "cell_type": "code",
   "execution_count": 23,
   "id": "a061a586",
   "metadata": {},
   "outputs": [
    {
     "data": {
      "text/plain": [
       "1498"
      ]
     },
     "execution_count": 23,
     "metadata": {},
     "output_type": "execute_result"
    }
   ],
   "source": [
    "data.duplicated().sum()"
   ]
  },
  {
   "cell_type": "code",
   "execution_count": 24,
   "id": "cdf5bd45",
   "metadata": {},
   "outputs": [],
   "source": [
    "df = data.dropna()"
   ]
  },
  {
   "cell_type": "code",
   "execution_count": 25,
   "id": "c486645a",
   "metadata": {},
   "outputs": [
    {
     "data": {
      "text/plain": [
       "label    0\n",
       "text     0\n",
       "dtype: int64"
      ]
     },
     "execution_count": 25,
     "metadata": {},
     "output_type": "execute_result"
    }
   ],
   "source": [
    "df.isnull().sum()"
   ]
  },
  {
   "cell_type": "code",
   "execution_count": 26,
   "id": "76a208a9",
   "metadata": {},
   "outputs": [
    {
     "data": {
      "text/plain": [
       "<bound method DataFrame.info of      label                                               text\n",
       "0     REAL  Payal has accused filmmaker Anurag Kashyap of ...\n",
       "1     FAKE  A four-minute-long video of a woman criticisin...\n",
       "2     FAKE  Republic Poll, a fake Twitter account imitatin...\n",
       "3     REAL  Delhi teen finds place on UN green list, turns...\n",
       "4     REAL  Delhi: A high-level meeting underway at reside...\n",
       "...    ...                                                ...\n",
       "3724  REAL  19:17 (IST) Sep 20\\n\\nThe second round of coun...\n",
       "3725  REAL  19:17 (IST) Sep 20\\n\\nThe second round of coun...\n",
       "3726  FAKE  The Bengaluru City Police’s official Twitter h...\n",
       "3727  REAL  Sep 20, 2020, 08:00AM IST\\n\\nSource: TOI.in\\n\\...\n",
       "3728  REAL  Read Also\\n\\nRead Also\\n\\nAdvocate Ishkaran Bh...\n",
       "\n",
       "[3721 rows x 2 columns]>"
      ]
     },
     "execution_count": 26,
     "metadata": {},
     "output_type": "execute_result"
    }
   ],
   "source": [
    "df.info\n"
   ]
  },
  {
   "cell_type": "code",
   "execution_count": 27,
   "id": "f7dcf3e2",
   "metadata": {},
   "outputs": [
    {
     "data": {
      "text/plain": [
       "Index(['label', 'text'], dtype='object')"
      ]
     },
     "execution_count": 27,
     "metadata": {},
     "output_type": "execute_result"
    }
   ],
   "source": [
    "df.columns"
   ]
  },
  {
   "cell_type": "code",
   "execution_count": 28,
   "id": "ad4817b1",
   "metadata": {},
   "outputs": [
    {
     "data": {
      "text/plain": [
       "array(['Payal has accused filmmaker Anurag Kashyap of behaving inappropriately with her in a video that went viral. She maintained her stance while speaking to ETimes and said, “I have wanted to speak about this for a long time. But today, finally I thought I must get it off my head. I had tweeted about my incident sometime ago when the #MeToo movement had happened, but many people told me to delete the tweet else I would stop getting work. My manager too advised me to remove the tweet. I complied. Post that, Anurag blocked me on WhatsApp.”',\n",
       "       'A four-minute-long video of a woman criticising the government at an anti-Citizenship Amendment Act rally in Delhi earlier in January is going viral with a false claim that the woman shows late Prime Minister Atal Bihari Vajpayee\\'s niece.\\n\\nThe caption in Hindi translates to: \" Respected Vajpayee ji\\'s niece has finally broken her silence, listen to what she has to say.\"\\n\\n\\n\\n(Translated from Hindi: माननीय वाजपयी जी की भतीजी ने आखिरकार तोड़ी चुप्पी | जानिए क्या कहा)\\n\\nAlso Read: Muslim Politician Disguised As A Hindu In Anti-CAA Protests?\\n\\nThe video comes at a time when protests against the Citizenship Amendment Act and a proposed National Register of Citizens have gone unabated for over a month.\\n\\nIn the video, the woman can be seen saying the following in Hindi.\\n\\n\"They (Britishers) did a lot of bad but at least they were outsiders. First of all, they were not ours, they were not from this land. They came from afar and came here to do this. But still, the difference between them (Indian government and Britishers) was that they (Britishers) were educated. They were not this illiterate. At least they didn\\'t do this with Britishers that the government is doing with its own people. Why can\\'t they understand they are Indian. They should talk about India. They tell Congress, they tell others, they tell us - why are you silent about Pakistan? Are we crazy that we should talk about Pakistan? Are you not enough to talk about Pakistan? You are obsessed with Pakistan. You can\\'t think of anything else besides Pakistan. Whenever you speak you always speak about Pakistan. Who will talk about India? Pakistanis did not elect you, we elected you. And we regret electing you.\"\\n\\nBOOM also received the same video on its helpline from a user asking about its veracity.\\n\\nThe video received on the WhatsApp helpline.\\n\\nThe video is also viral on Facebook\\n\\nAlso read: Nehru, Indira Gandhi\\'s Archival Image Goes Viral With False Claim\\n\\nFact Check\\n\\nBOOM ran a reverse image search and found that the video was uploaded by several YouTube channels nearly a week ago. The captions on the video identified the woman as Atiya Alvi.\\n\\n\\n\\nWe also noticed that the boom mic held in the video showed a logo of HNP news and found the video on their YouTube channel uploaded on January 3, 2020.\\n\\n\\n\\nFurthermore, we found a post by one Naziya Alvi Rahman who posted that the woman in the video was her sister Atiya Alvi.\\n\\n\\n\\nNaziya Alvi wrote, \"This is exactly how fake news spreads. Read the caption below. I so badly wish it was true but it isn\\'t. She is my humble sister. Atiya Alvi Siddiqui\".\\n\\nBOOM contacted Atiya Alvi through Facebook. She confirmed that the woman in the video was her. \"I had gone to Mandi House for a protest and that\\'s where this interview happened,\" Atiya told BOOM. She also said she wouldn\\'t describe herself as an activist but rather a \\'concerned citizen\\'.\\n\\n\\n\\nAtal Bihari Vajpayee\\'s Niece Karuna Shukla\\n\\nAtal Bihari Vajpayee\\'s niece is Karuna Shukla, who does not look like Atiya Alvi Siddiqui and is 70-year-old. Congress fielded Shukla in 2018 for the Vidhansabha election from Rajnandgaon in Chattisgarh. Karuna Shukla was a member of parliament and was a member of the Bharatiya Janata Party, but left the BJP post-2014. She has been vocal about state and other issues and accused the BJP of using Atal Bihari Vajpayee\\'s death for political gains in the Lok Sabha elections of 2019.\\n\\n\\n\\n\\n\\n\\n\\n',\n",
       "       'Republic Poll, a fake Twitter account imitating the Arnab Goswami-led Republic TV, is angering netizens with its controversial polls as Twitter users including journalists mistake it for the channel\\'s official account.\\n\\n\\n\\nThe fake account (@RepublicPoll) uses a logo very similar to Republic TV\\'s logo and does not mention in its bio whether it is related to Republic TV or if it is a fan account. Twitter\\'s rules require that a fan account or parody account should indicate the same.\\n\\nAlso Read:Did Nita Ambani Ask For Support For CAA?\\n\\n\\n\\n\\n\\nSiddharth Varadarajan, founding editor of The Wire.in, in a now deleted tweet, had shared a screenshot of a poll by the fake account claiming it was a \\'poll run by a \"nationalistic\" media house\\'.\\n\\nThis is hilarious. Despite the desperate phrasing of the question, this poll run by a \"nationalist\" media house has ended up condemning the innocent, \"minority in JNU\" ABVP. pic.twitter.com/gQGtzFEU26 — Siddharth (@svaradarajan) January 7, 2020\\n\\n\\n\\n\\n\\n\\n\\n\\n\\nAfter several Twitter users pointed out that the account was fake Varadarajan later clarified that it was a parody account.\\n\\nSo I am told @republicpoll is a parody account. Which kinda makes sense since Republic TV is a parody news channel! — Siddharth (@svaradarajan) January 7, 2020\\n\\n\\n\\n\\n\\n\"Nudge\" In polling via carefully placed words like \\'goons\\' and \\'minority in JNU\\' doesn\\'t seem to work. pic.twitter.com/Vfa2dfxVST — Andy Mukherjee (@andymukherjee70) January 6, 2020\\n\\nClick here to view an archive.\\n\\nWe compared the official logo of Republic TV with the logo used by the fake Twitter account and found that they do not match. The fake account is not verified and created on April 1, 2019, whereas Republic TV official Twitter account was created in December 2016.\\n\\n\\n\\n\\n\\n\\n\\nRepublic TV (@Republic) has been conducting polls on its official Twitter handle.\\n\\n#TukdeGangSpotted | Is there a pattern to the protests? — Republic (@republic) January 6, 2020\\n\\nThe fake account has been regularly tweeting these polls, and while writing the article, it has 244 tweets, all of which are controversial polls. It currently has 2,671 Followers, whereas the official Republic TV Twitter account has 769 lakh followers and is not following it.\\n\\nLoaded Polls By \\'@RepublicPoll\\'\\n\\n\\n\\nThe fake account has been tweeting polls on recent issues framing it with an ideologically right wing slant. Click here to view an archive.\\n\\nClick here to view an archive.\\n\\n#SwaraBhaskar has no any valid document.\\n\\nThen the Question that arises is....\\n\\n\\n\\nHow this lately Anarkali travel all around the World without Passport ??? — Republic Poll (@RepublicPoll) January 5, 2020\\n\\nClick here to view an archive.\\n\\nSeveral Twitter users have taken on the account for its polls. The fake account has also deleted polls that are not favorable to it.\\n\\nDespite your best attempts at trying to sway the votes by calling JNU students goons and ABVP a minority, people\\'s votes show who the culprit is and who the chutiya is. Ghar jao kutton. pic.twitter.com/8Of3ejMt3p — Rutuja/ऋतुजा🇮🇳 (@HavaldarShinde) January 6, 2020\\n\\n\\n\\n\\n\\n\\n\\n\\n\\n\\n\\n\\n\\n\\n\\n',\n",
       "       ...,\n",
       "       'A quote by an impostor Facebook page of Finance Minister (FM) Nirmala Sitharaman criticising Delhi Chief Minster Arvind Kejriwal\\'s decision of providing free Delhi Metro and bus rides for women has gone viral on social media as that from the newly appointed FM.\\n\\nThe impostor page named \\'Nirmala Sitaraman\\' shared a post with the caption, \"A daily wage labourer will pay his metro fare, while a rich Delhi girl will be exempted. What kind of policy is this? Arvind Kejriwal Does your stupidity knows no bounds? Is giving freebies your only ploy to win elections?\"\\n\\nThe post has gained around 14 thousand reactions and four thousand comments at the time of writing this article.\\n\\nPost that has gone viral\\n\\nClick here to view the post, and here for an archive.\\n\\nScreenshots of the post have gone viral on social media.\\n\\nScreenshots of the post are viral\\n\\nFACT-CHECK\\n\\nThe page purporting to be that of Finance Minister Nirmala Sitharaman is fake and not her official page as it does not have a blue tick. Additionally Sitharaman\\'s surname has been misspelled as \\'Sitaraman\\' without an \\'h\\'.\\n\\nThe page does not have a blue tick and the user name does not match.\\n\\nSitharaman\\'s official Facebook handle is \\'@nirmala.sitharaman\\' and not \\'Nirmlasitharaman\\'.\\n\\nOfficial facebook page of the minister\\n\\nWith around 2,14,811 likes, the impostor page keeps posting statements with no mention that it is a fan page.\\n\\nThe Twitter account (nirmlasitaraman) that has been linked to the impostor Facebook page has been suspended.\\n\\nBOOM contacted the finance minister\\'s office and an official from the ministry said that no such statement has been made by the minister.\\n\\nThe official Sitharaman page has not posted any such post on the mentioned date. Additionally and we also searched for recent statements made by the minister and did not find any such comment made by her.',\n",
       "       'The Bengaluru City Police’s official Twitter handle on Monday rubbished a hoax message that is doing the rounds about terrorists, involved in the serial Sri Lanka blasts, being spotted in the city early last week.\\n\\nIn the tweet, accompanied by screenshots of the viral set of messages, the police has urged people not fall for or forward such the message.\\n\\nThe tweet can be viewed below\\n\\nBOOM had also received the viral message on its WhatsApp helpline number (7700906111) with a caption claiming they are suspects in the recent Easter Sunday blasts in Sri Lanka who were now spotted in Bengaluru.\\n\\nThe messages mention an alleged spotting of the terrorists involved in the serial Sri Lanka blasts on Easter Sunday, in Bengaluru.\\n\\n“These are pics of Shrilanka blast suspects that Bangalore police who visited our apartment today have given us. They are looking for them as they are expected to be in Bangalore. The Police told us that these four people have entered Bangalore as seen in airport cctvs. And they maybe planning an attack in any of the IT parks. So we should lookout for people who come for interviews and for renting apartment. Our s being somewhat on the outskirts,so they came down. Yes we can share the information,” (sic.) read the message.\\n\\nAnother Whatsapp forward features a collage of five people, allegedly identified as the Sri Lanka blasts accused and warns citizens to be safe as they “plan to hit the city with a similar attack,” in the city as well.',\n",
       "       'Sep 20, 2020, 08:00AM IST\\n\\nSource: TOI.in\\n\\nMeet Neelkantha Bhanu Prakash - the world’s fastest human calculator. The 21-year-old won India’s first gold medal in the Mental Calculation World Championship at Mind Sports Olympiad (MSO) held in London. He holds 4 world records and 50 Limca records for being the fastest human calculator in the world. TOI asked him some Math questions and this is how fast he solved them. Watch this video.'],\n",
       "      dtype=object)"
      ]
     },
     "execution_count": 28,
     "metadata": {},
     "output_type": "execute_result"
    }
   ],
   "source": [
    "df.text.unique()"
   ]
  },
  {
   "cell_type": "code",
   "execution_count": 29,
   "id": "4e34fd53",
   "metadata": {},
   "outputs": [
    {
     "data": {
      "text/plain": [
       "array(['REAL', 'FAKE'], dtype=object)"
      ]
     },
     "execution_count": 29,
     "metadata": {},
     "output_type": "execute_result"
    }
   ],
   "source": [
    "df.label.unique()"
   ]
  },
  {
   "cell_type": "code",
   "execution_count": 31,
   "id": "bfed1db2",
   "metadata": {},
   "outputs": [
    {
     "data": {
      "text/plain": [
       "7442"
      ]
     },
     "execution_count": 31,
     "metadata": {},
     "output_type": "execute_result"
    }
   ],
   "source": [
    "df.size"
   ]
  },
  {
   "cell_type": "code",
   "execution_count": 32,
   "id": "f66345bc",
   "metadata": {},
   "outputs": [
    {
     "data": {
      "text/html": [
       "<div>\n",
       "<style scoped>\n",
       "    .dataframe tbody tr th:only-of-type {\n",
       "        vertical-align: middle;\n",
       "    }\n",
       "\n",
       "    .dataframe tbody tr th {\n",
       "        vertical-align: top;\n",
       "    }\n",
       "\n",
       "    .dataframe thead th {\n",
       "        text-align: right;\n",
       "    }\n",
       "</style>\n",
       "<table border=\"1\" class=\"dataframe\">\n",
       "  <thead>\n",
       "    <tr style=\"text-align: right;\">\n",
       "      <th></th>\n",
       "      <th>label</th>\n",
       "      <th>text</th>\n",
       "    </tr>\n",
       "  </thead>\n",
       "  <tbody>\n",
       "    <tr>\n",
       "      <th>count</th>\n",
       "      <td>3721</td>\n",
       "      <td>3721</td>\n",
       "    </tr>\n",
       "    <tr>\n",
       "      <th>unique</th>\n",
       "      <td>2</td>\n",
       "      <td>2229</td>\n",
       "    </tr>\n",
       "    <tr>\n",
       "      <th>top</th>\n",
       "      <td>FAKE</td>\n",
       "      <td>Highest IPL score in Dubai\\n\\nMilestones to wa...</td>\n",
       "    </tr>\n",
       "    <tr>\n",
       "      <th>freq</th>\n",
       "      <td>1871</td>\n",
       "      <td>79</td>\n",
       "    </tr>\n",
       "  </tbody>\n",
       "</table>\n",
       "</div>"
      ],
      "text/plain": [
       "       label                                               text\n",
       "count   3721                                               3721\n",
       "unique     2                                               2229\n",
       "top     FAKE  Highest IPL score in Dubai\\n\\nMilestones to wa...\n",
       "freq    1871                                                 79"
      ]
     },
     "execution_count": 32,
     "metadata": {},
     "output_type": "execute_result"
    }
   ],
   "source": [
    "df.describe()"
   ]
  },
  {
   "cell_type": "code",
   "execution_count": 34,
   "id": "506c330d",
   "metadata": {},
   "outputs": [
    {
     "data": {
      "text/html": [
       "<div>\n",
       "<style scoped>\n",
       "    .dataframe tbody tr th:only-of-type {\n",
       "        vertical-align: middle;\n",
       "    }\n",
       "\n",
       "    .dataframe tbody tr th {\n",
       "        vertical-align: top;\n",
       "    }\n",
       "\n",
       "    .dataframe thead th {\n",
       "        text-align: right;\n",
       "    }\n",
       "</style>\n",
       "<table border=\"1\" class=\"dataframe\">\n",
       "  <thead>\n",
       "    <tr style=\"text-align: right;\">\n",
       "      <th></th>\n",
       "      <th>label</th>\n",
       "      <th>text</th>\n",
       "    </tr>\n",
       "  </thead>\n",
       "  <tbody>\n",
       "    <tr>\n",
       "      <th>0</th>\n",
       "      <td>REAL</td>\n",
       "      <td>Payal has accused filmmaker Anurag Kashyap of ...</td>\n",
       "    </tr>\n",
       "    <tr>\n",
       "      <th>1</th>\n",
       "      <td>FAKE</td>\n",
       "      <td>A four-minute-long video of a woman criticisin...</td>\n",
       "    </tr>\n",
       "    <tr>\n",
       "      <th>2</th>\n",
       "      <td>FAKE</td>\n",
       "      <td>Republic Poll, a fake Twitter account imitatin...</td>\n",
       "    </tr>\n",
       "    <tr>\n",
       "      <th>3</th>\n",
       "      <td>REAL</td>\n",
       "      <td>Delhi teen finds place on UN green list, turns...</td>\n",
       "    </tr>\n",
       "    <tr>\n",
       "      <th>4</th>\n",
       "      <td>REAL</td>\n",
       "      <td>Delhi: A high-level meeting underway at reside...</td>\n",
       "    </tr>\n",
       "  </tbody>\n",
       "</table>\n",
       "</div>"
      ],
      "text/plain": [
       "  label                                               text\n",
       "0  REAL  Payal has accused filmmaker Anurag Kashyap of ...\n",
       "1  FAKE  A four-minute-long video of a woman criticisin...\n",
       "2  FAKE  Republic Poll, a fake Twitter account imitatin...\n",
       "3  REAL  Delhi teen finds place on UN green list, turns...\n",
       "4  REAL  Delhi: A high-level meeting underway at reside..."
      ]
     },
     "execution_count": 34,
     "metadata": {},
     "output_type": "execute_result"
    }
   ],
   "source": [
    "df.head()"
   ]
  },
  {
   "cell_type": "code",
   "execution_count": 37,
   "id": "1366ff88",
   "metadata": {},
   "outputs": [
    {
     "data": {
      "text/plain": [
       "label  text                                                                                                                                                                                                                                                                                                                                                                                                                                                                                                                                                                                                                                                                                                                                                                                                                                                                                                                                                                                                                                                                                                                                                                                                                                                                                                                                                                                                                                                                                                                                                                                                                                                                                                                                                                                                                                                                                                                                                                                                                                                                                                                                                                                                                                                                                                                                                                                                                                                                                                                                                                                                                                                                                                                                                                                                                                                                                                                                                                                                                                                                                                                                                                                                                                                                                                                                                                                                                                                                           \n",
       "REAL   Highest IPL score in Dubai\\n\\nMilestones to watch out for:\\n\\nPreview\\n\\nLeaving things to chance is not what #CaptainPunjab does... he creates chances! 💪🏻#SaddaPunjab #Dream11IPL… https://t.co/2hJH7DXcWb — Kings XI Punjab (@lionsdenkxip) 1600593907000\\n\\nSunrisers Hyderabad 184/1 vs Delhi Daredevils (now Delhi Capitals ) in 2014Chris Gayle need 16 more runs to get to 4500-run mark in the IPL KL Rahul needs 23 more to complete 2000 IPL runsAmit Mishra needs 3 more scalps and to complete 100 wickets for Delhi Capitals Rishabh Pant needs 6 more maximums to complete 100 IPL sixesHere's KL Rahul showing his love for the game.As far as head to head between the two teams are concerned, it favours KXIP who have won four out of the last five matches but it was the Capitals who emerged victorious in the last match between the two sides in the 2019 season.After a scintillating lung opener between defending champions Mumbai Indians and Chennai Super Kings, it now time for the rising stars to take the centerstage as Shreyas Iyer's men lock horns with KL Rahul's experienced Kings.Hello and welocme to TimesofIndia.com's live coverage of Match 2 of IPL 2020 between Delhi Capitals and Kings XI Punjab being played at the Dubai International Cricket Stadium.                                                                                                                                                                                                                                                                                                                                                                                                                                                                                                                                                                                                                                                                                                                                                                                                                                                                                                                                                                                                                                                                                                                                                                                                                                                                                                                                                                                                                                                                                                                                                                                                                                                                                                                                                                                                                                                                                                                                                                                                                                                                                                                                                                       79\n",
       "       SACH is LIFE | ft. Sachin TENDULKAR & Aakash CHOPRA | SPECIAL Interview | Part 1\\n\\n1 / 10 IPL 2020 Match 1: Mumbai Indians vs Chennai Super Kings Previous Next Show Captions <p>Mumbai Indians and Chennai Super Kings players after the IPL 2020 opening match at the Sheikh Zayed Stadium, Abu Dhabi. (Pic credit: BCCI/IPL)</p> <p>Mumbai Indians and Chennai Super Kings players after the IPL 2020 opening match at the Sheikh Zayed Stadium, Abu Dhabi. (Pic credit: BCCI/IPL)</p> <p>Chennai Super Kings' Faf du Plessis celebrates his fifty against Mumbai Indians at the Sheikh Zayed Stadium, Abu Dhabi. (Pic credit: BCCI/IPL)</p> <p>Chennai Super Kings captain MS Dhoni bats against Mumbai Indians at the Sheikh Zayed Stadium, Abu Dhabi. (Pic credit: BCCI/IPL)</p> <p>Chennai Super Kings' Ambati Rayudu bats against Mumbai Indians at the Sheikh Zayed Stadium, Abu Dhabi. (Pic credit: BCCI/IPL)</p> <p>Mumbai Indians' James Pattinson celebrates the wicket of Chennai Super Kings' Murali Vijay at the Sheikh Zayed Stadium, Abu Dhabi. (Pic credit: BCCI/IPL)</p> <p>Mumbai Indians' Kieron Pollard bats against Chennai Super Kings at the Sheikh Zayed Stadium, Abu Dhabi. (Pic credit: BCCI/IPL)</p> <p>Mumbai Indians' Hardik Pandya bats against Chennai Super Kings at the Sheikh Zayed Stadium, Abu Dhabi. (Pic credit: BCCI/IPL)</p> <p>Chennai Super Kings' Ravindra Jadeja celebrates the wicket of Mumbai Indians' Hardik Pandya at the Sheikh Zayed Stadium, Abu Dhabi. (Pic credit: BCCI/IPL)</p> <p>Chennai Super Kings and Mumbai Indians players stand and clap as they thank the front line heroes before the start of the IPL 2020 opening match at the Sheikh Zayed Stadium, Abu Dhabi. (Pic credit: BCCI/IPL)</p>\\n\\nChennai Super Kings beat Mumbai Indians by 5 wickets in IPL opener\\n\\nNEW DELHI: Batting great Sachin Tendulkar has no doubts as to which team he is supporting this season in the Indian Premier League (IPL).Tendulkar, who captained the Mumbai Indians from the inaugural season in 2008 till 2011, said that he favours the reigning champions to defend the title while adding that all teams in the tournament are on equal footing.\"Of course, the Men in Blue, are there any doubts? I've always been in blue everywhere. When Mumbai and Indians come together then it becomes Mumbai Indians,\" Tendulkar told Aakash Chopra on the latter's Youtube channel.\"All teams are quite balanced. This format is such that by the time you play, a lot has already transpired on the field. We can look at this in two ways. Batsmen who seem to be in a hurry are cautioned to take it easy, while those who are extremely relaxed at times are required to take swift actions. It is going to be an exciting competition, and matches will be evenly contested. Considering the 53-day duration of the tournament, the team with momentum on its side might prevail.\"Tendulkar also spoke about the importance of starting well. However, Mumbai Indians' run of defeats in their opening matches in the IPL continued on Saturday when they were beaten by Chennai Super Kings in Abu Dhabi.\"Even while playing a Test series, we stress on performing well in the first game. If we play well in the first game, the series will finish well. Same applies here as well. If the beginning is good, the team meetings are also short, and that holds the team in good stead,\" said the 47-year-old.    58\n",
       "       ROME: Novak Djokovic knows it isn't model behavior when he loses his cool on the tennis court.Yet he just can't help himself.Exactly two weeks after he was defaulted from the US Open , and a day after he was warned by the chair umpire for breaking his racket, Djokovic received an obscenity warning midway through a 7-5, 6-3 win over Casper Ruud in the Italian Open semifinals on Sunday.As opposed to his previous two outbursts, this time there were fans in the stands who could clearly hear how Djokovic dealt with his frustration.What's more is that, with 1,000 spectators allowed into the Foro Italico for the first time this week, a large proportion of those in attendance were children.\"I don't want to do it, but when it comes, it happens,\" Djokovic said Saturday. \"That's how I, I guess, release sometimes my anger. And it's definitely not the best message out there, especially for the young tennis players looking at me. I don't encourage that - definitely.\"Djokovic's behavior once again overshadowed his performance, in a match where he had to save two set points when Ruud served for the first set at 5-4 - one of them with a delicate backhand drop-shot winner.The top-ranked Djokovic also served five aces in a single game to take a 6-5 lead in the first.Ruud, 21, the first Norwegian player to contest a Masters 1000 semifinal and a product of Rafael Nadal's academy, put up plenty of resistance and also produced the shot of the day: a leaping over-the-shoulder hook shot for a winner as he raced back to chase down a lob - earning a thumbs-up from Djokovic.The obscenity warning came in the third game of the second set, by which time he had a running dialogue with the chair umpire over a series of contested calls.Still, Djokovic improved to 30-1 this year. His only loss came when he was thrown out of the US Open for unintentionally hitting a line judge in the throat with a ball during his fourth-round match against Pablo Carreno Busta.In Djokovic's 10th Rome final - he has won four - he\"ll face either eighth-seeded Diego Schwartzman or 12th-seeded Denis Shapovalov.Schwartzman beat nine-time Rome champion Nadal late Friday.In the women's tournament, top-seeded Simona Halep reached her third Rome final by beating Garbine Muguruza 6-3, 4-6, 6-4 to improve her record in tennis' restart to 9-0.Muguruza struggled with her serve and double faulted on the final two points of the 2 hour, 16-minute match.Halep, who lost to Elina Svitolina in the 2017 and 2018 finals, will face either Karolina Pliskova or Marketa Vondrousova in Monday's championship match.The second-ranked Halep is 13-0 overall stretching back to February, when she won a title in Dubai. After the tour's five-month break due to the coronavirus pandemic, the Romanian returned by raising another trophy in Prague last month. She then skipped the US Open due to travel and health concerns.                                                                                                                                                                                                                                                                                                                                                                                                                                                                                   55\n",
       "       Guneet Monga comes out in support of Anurag Kashyap, says “Don’t need Twitter to explain what he means to many of us”                                                                                                                                                                                                                                                                                                                                                                                                                                                                                                                                                                                                                                                                                                                                                                                                                                                                                                                                                                                                                                                                                                                                                                                                                                                                                                                                                                                                                                                                                                                                                                                                                                                                                                                                                                                                                                                                                                                                                                                                                                                                                                                                                                                                                                                                                                                                                                                                                                                                                                                                                                                                                                                                                                                                                                                                                                                                                                                                                                                                                                                                                                                                                                                                                                                                                                                                                              54\n",
       "       NEW DELHI: Seven of the top 10 most valued domestic companies saw a combined erosion of Rs 59,259.58 crore in their market valuation last week , with Hindustan Unilever , HDFC Bank and Kotak Mahindra Bank emerging as major laggards.The seven firms clocking losses in their market capitalisation (m-cap) were Hindustan Unilever (HUL), HDFC Bank, Kotak Mahindra Bank, Reliance Industries , HDFC, ITC and ICICI Bank.In contrast, Tata Consultancy Services (TCS), Infosys and Bharti Airtel saw gains in their valuation for the trading week closed on Friday.HUL's m-cap plummeted Rs 14,320.54 crore to Rs 4,93,007.39 crore, HDFC Bank's valuation tumbled Rs 11,611.6 crore to Rs 5,81,900.65 crore and Kotak Mahindra Bank's market worth tanked Rs 10,205.11 crore to Rs 2,53,002.13 crore.The market cap of RIL eroded by Rs 9,027.32 crore to Rs 15,58,987.77 crore and that of HDFC declined Rs 8,144.93 crore to Rs 3,09,076.75 crore.ITC's valuation fell by Rs 5,783.23 crore to Rs 2,20,500.76 crore and ICICI Bank's m-cap dipped Rs 166.85 crore to Rs 2,55,082.88 crore.On the other hand, TCS added Rs 28,912.12 crore to take its valuation to Rs 9,19,615.68 crore.Tata Consultancy Services on Monday became the second Indian company to attain a market valuation of Rs 9 lakh crore after Reliance Industries.The valuation of Infosys jumped by Rs 24,342.45 crore to Rs 4,27,025.67 crore and that of Bharti Airtel rose by Rs 2,755.05 crore to Rs 2,70,977.53 crore.In the ranking of top 10 companies in terms of m-cap, RIL was ruling the chart followed by TCS, HDFC Bank, HUL, Infosys, HDFC, Bharti Airtel, ICICI Bank, Kotak Mahindra Bank and ITC.During the last week, the BSE benchmark Sensex dropped 8.73 points or 0.02 per cent.                                                                                                                                                                                                                                                                                                                                                                                                                                                                                                                                                                                                                                                                                                                                                                                                                                                                                                                                                                                                                                                                                                                                                                                                                                                                                                                                                                                                                                                                                                                                                                                                                                                                                                53\n",
       "                                                                                                                                                                                                                                                                                                                                                                                                                                                                                                                                                                                                                                                                                                                                                                                                                                                                                                                                                                                                                                                                                                                                                                                                                                                                                                                                                                                                                                                                                                                                                                                                                                                                                                                                                                                                                                                                                                                                                                                                                                                                                                                                                                                                                                                                                                                                                                                                                                                                                                                                                                                                                                                                                                                                                                                                                                                                                                                                                                                                                                                                                                                                                                                                                                                                                                                                                                                                                                                                                          ..\n",
       "FAKE   A video of a man being stripped and thrashed by a group of women for allegedly harassing school students in Ambala, Haryana, is viral with false claims that the accused is a Muslim.\\n\\nThe two-minute-long clip shows women beating up the accused and forcing him to strip naked in front of a group of people. In the caption, the accused has been identified as a 'mullah'. The caption reads as, \"(TTC News) A Muslim man tried to rape a 5-year-old girl in Jain Bazar of Ambala. Local women caught him and beat him and made him roam around naked. Stricter legal actions should be taken against a man with such filthy thinking.\"\\n\\n(Original caption in Hindi: (TTC न्यूज़) अंबाला शहर के जैन बाजार में एक मुल्ले ने 5 साल की लड़की से रेप करने की कोशिश की जिसमें वहां की महिलाओं ने पकड़ कर उसको नंगा करके घुमाया ऐसे घिनौनी सोच वाले व्यक्ति के खिलाफ सख्त से सख्त कानूनी कार्रवाई होनी चाहिए।)\\n\\nBOOM reached out to inspector Sunita Dhaka of Ambala Women's police station, who identified the accused as Pawan Kumar alias Sonu and rubbished a communal angle to the incident.\\n\\nAlso read: Photo Of Tamil Nadu Student With Acid Burns Viral With False Communal Claim\\n\\n\\n\\nBOOM has chosen not to include the video as it is distressing in nature.\\n\\nAn archived version of the tweet can be seen here . Below are screenshots of tweets and Facebook posts that are viral with the same narrative.\\n\\n\\n\\n\\n\\n\\n\\n\\n\\n\\n\\n\\n\\nAlso read: Muslims Dominate AAP's Delhi Polls List? Party Says Not Their List\\n\\n\\n\\nFact Check\\n\\nWe ran a relevant keyword search taking clues from the video clip and found a news report by Dainik Bhaskar, along with the same video.\\n\\nAlso read: Swarajya Peddles Misinformation About Deepika Padukone's Chhapaak\\n\\n\\n\\n\\n\\nThe incident happened on January 20 in Ambala, when women nabbed one Pawan Kumar, who was accused of sexually harassing school girls. According to the report, a young girl refused to go to school as Kumar made sexual advances towards them. Following which mothers secretly followed him and caught him near Jain Bazar area of Ambala, where he was beaten up and stripped off his clothes.\\n\\nBOOM also reached out to inspector Sunita Dhaka of Ambala City Women police station, who corroborated the events and denied a communal angle.\\n\\nDhaka said, \"Three girls accused a 40 year-old-man Pawan Kumar of passing lewd comments and showing his private parts to them. One out of them had stopped going to school, following which her mother caught the accused red-handed and paraded him naked.\" Dhaka further added that there is no communal angle to the incident.\\n\\nKumar has since been arrested and charged under relevant sections of The Protection of Children from Sexual Offences (POCSO) Act, and IPC.                                                                                                                                                                                                                                                                                                                                                                                                                                                                                                                                                                                                                                           1\n",
       "       A video of a man barbarically beating teenage students with sticks at a school in Allahabad, Uttar Pradesh is going viral on WhatsApp and social media as that from a school in Valsad, Gujarat.\\n\\nBOOM requests its readers to exercise discretion in sharing the video which reveals the identities of minor victims.\\n\\nThe video reportedly shot by one of the school's staff shows students being lined up receiving corporal punishment while being threatened supposedly by the school's principal though one report by the Hindustan Times says he is a school manager.\\n\\nThe WhatsApp message accompanying the video claims the incident took place at RM VM School in Valsad. The Hindi forward asks people to share it as much as possible so that the teacher is arrested and the school is shut down.\\n\\nBOOM also found numerous Facebook posts which also claimed the video was from Gujarat.\\n\\nTRUTH ABOUT THE VIDEO\\n\\nThe video has been viral since the beginning of August. The incident took place at Rudraprayag Vidya Mandir in Shantipuram area of Allahabad, Uttar Pradesh.\\n\\nThe man assaulting the children in the video is Satyendra Dwivedi and is currently absconding. BOOM tried to get in touch with Sureshrao A Kulkarni, SP Allahabad. While Kulkarni was unavailable for comment, his office said an FIR had been filed against Dwivedi and that he would be caught soon.\\n\\nBOOM was unable to contact Rudraprayag Vidya Mandir. A cellphone number listed for RM VM in Valsad appeared to be switched off.\\n\\nHindi news outlets have reported on the video. It was not immediately clear what sparked the corporal punishment.\\n\\nSome news reports say the students were assaulted for complaining about the heat while others say they were beaten for being unable to answer a question in a chemistry class.\\n\\nLocal police told BOOM those details could only be verified once Dwivedi was arrested.\\n\\nWarning: The below video is graphic in nature, some viewers may find it distressing.                                                                                                                                                                                                                                                                                                                                                                                                                                                                                                                                                                                                                                                                                                                                                                                                                                                                                                                                                                                                                                                                                                                                                                                                                                                                                                                                                                                                                                       1\n",
       "       A video of a lion crossing the road in Gujarat’s Bilkha stretch of the Gir National Park is viral with false claims that it was spotted in Mumbai’s Aarey Milk Colony. Aarey Colony is characterized by a considerable patch of greenery in the city.\\n\\nIn the video, the lion can be seen walking past the road, as stunned motorists halt to capture the same on their phones.\\n\\nAarey Milk Colony, located near Mumbai’s Goregaon East, was established decades ago, as a dairy colony. Unlike the rest of Mumbai, which is densely populated, the colony is covered with vegetation, making it an apt habitat for leopards, thus making the claim believable to some.\\n\\nClick here for the archived link.\\n\\nThe same video was shared by TV actor Karan Patel on his Instagram.\\n\\nhttps://www.instagram.com/p/B0B1E_0HIik/\\n\\n\\n\\n\\n\\n\\n\\nFact Check\\n\\nA Twitter user replied on the video, mentioning that it is originally from Sasan Gir, Gujarat.\\n\\nBOOM then broke the video into key frames and performed a reverse image search. We were directed to a video by Divya Bhaskar, which reported the incident where a lion was spotted in Gujarat’s Junagadh.\\n\\nThe lion was crossing the Bilkha Road stretch of Gir National Park.\\n\\nThe same was reported in ABP Asmita and Newstrack.                                                                                                                                                                                                                                                                                                                                                                                                                                                                                                                                                                                                                                                                                                                                                                                                                                                                                                                                                                                                                                                                                                                                                                                                                                                                                                                                                                                                                                                                                                                                                                                                                                                                                                                                                                                                                                                                                                                                                                                                                                                                                                                                                                           1\n",
       "       A video of a hostage rescuing mock drill in Senegal has resurfaced with claims that it shows passengers, infected with the novel Coronavirus, disembarking a flight from Italy at the Dakar airport of Senegal.\\n\\nIn the 16 seconds viral clip, passengers can be seen getting off a bus and rushing away as emergency workers tend to several women coughing and lying on the airport tarmac.\\n\\nThe video is being shared on Whatsapp with the caption, \"The Ethiopian Airlines flight from Italy this evening to Addis Ababa airport. Most of the passengers are infected with the virus, and there is no strength except in God.\"\\n\\n\\n\\n\\n\\nBOOM received the video on its WhatsApp helpline number (7700906111) inquiring about its veracity.\\n\\nFacebook\\n\\nThe video has been shared with the misleading caption on Facebook as well.\\n\\nClick here to view, and here for an archive.\\n\\nAlso Read: Video Of Mock Drill On COVID-19 Preparedness In Punjab Viral As Real\\n\\nFACT-CHECK\\n\\nWe broke the video into key-frames and performed a reverse image search using Yandex, a Russian search engine. The results showed that the video is from a mock drill that was exercised at the Blaise Diagne Airport in Dakar, Senegal in November, 2019.\\n\\nThe video was shot a month before the first few cases of the novel Coronavirus was reported in December 2019 in China.\\n\\nThe initial search results took us to a longer video uploaded to YouTube in January 2020. The video has been captioned in French as, \"a great misfortune in Senegal\". Taking clues from this, we broke the longer video into keyframes and ran a reverse image search which showed articles stating that the video was actually a training exercise.\\n\\nThe training exercise was carried out in November 2019 at the Blaise Diagne Airport in Dakar where police and members of staff practiced a hostage-taking scenario reported the Thiès Info. The headline of the article when translated reads, \"Exercise at AIBD: airport security as a show of strength\"\\n\\n\\n\\n\\n\\nAdditionally, the article includes an 11.52 minutes YouTube video, that was uploaded on November 28, 2019, with the caption (in French) that reads, \"AIBD Crisis management exercise application of the emergency plan\". The video also includes a press conference by officials where glimpses of volunteers during the exercise can be seen.\\n\\nAt the press conference after the exercise, Xavier Mary, the director-general of LAS (Limak-Aibd-Summa), organiser of the mock drill, thanked Air Senegal for the provision of an aircraft. He was also quoted as saying, that the organisation is in the process of progress in terms of crisis management, stated the website Dakaractu.\\n\\n\\n\\nThe Dakaractu article includes a 4.33 minutes video uploaded on November 28, 2019, with the same visuals as in the viral video. Comparing both the videos, one can spot volunteers wearing the same red armbands and the same logo of the channel is visible.\\n\\n\\n\\n\\n\\nThis piece of misinformation was earlier debunked by AFP France on March 10, 2020\\n\\n\\n\\nSenegal has reported 31 positive COVID-19 cases as of March 18, 2020, according to Worldometer, an online reference website for real-time global statistic on Coronavirus cases.\\n\\nFollow BOOM's LIVE blog for recent updates: Coronavirus LIVE Update: India's Cases Rise To 151\\n\\n\\n\\n                                            1\n",
       "REAL   “We needed to be more clinical with the chances we had – that’s the key thing. We created openings that could have… https://t.co/PBZ45rhJAZ — AS Roma English (@ASRomaEN) 1600553074000\\n\\n📸 | Frustration at the Bentegodi... #ASRoma #VeronaRoma https://t.co/V5Lam8ecf0 — AS Roma English (@ASRomaEN) 1600549598000\\n\\nMILAN: Roma settled for a goalless draw in their Serie A opener at Hellas Verona on Saturday with Gaetano Castrovilli scoring in a 1-0 win for Fiorentina against Torino behind closed doors before the return of a limited number of fans to stadiums 24 hours later.Sports Minister Vincenzo Spadafora has agreed that up to 1,000 spectators will be allowed at open-air sports events in Italy from Sunday.And nine-time reigning Serie A champions Juventus said they would kick off their season against Sampdoria \"in the presence of a 1,000 guests\" in Turin.\"No tickets will be sold for the match and we ask Juventus fans not to go to the Allianz Stadium in order to avoid creating any gatherings outside the stadium,\" they said in a statement.Parma and Sassuolo have also said they will open their grounds for matches against Napoli and Cagliari.\"Access will only be possible by invitation.. to sponsors, who have shown great support lately,\" Parma said.On the pitch, Roma's campaign got off to a sluggish start under the new ownership of US billionaire Dan Friedkin, with last year's fifth-place outfit settling for a point.Bosnia forward Edin Dzeko was left on the bench for the side from the capital amid reports he is set for a move to Juventus.Paulo Fonseca started in Verona with Henrikh Mkhitaryan and summer arrival Pedro.At first dominating, the Romans were soon put under pressure by Verona with Antonio Mirante deflecting an Adrien Tameze shot over the bar just before the break.The post again saved the Roma goalkeeper from a Federico Dimarco effort with ten minutes to go, while Roma's Leonardo Spinazzola also rattled the post after 85 minutes.\"We can't say that it would have been any different with Dzeko,\" said Fonseca whose side host Juventus in their second game next weekend.\"We had a very good first half, missing four or five goals. Then in the second half we made a lot of mistakes.\"Had we scored in the first half it would have changed everything.\"In Florence, Franck Ribery wore Fiorentina captain's armband for the first match of the new campaign.New Torino coach Marco Giampaolo could thank goalkeeper Salvatore Sirigu for keeping his side in the game pulling off two quickfire saves on Ivorian Christian Kouame just before the break.The breakthrough came in the 78th minute when Federico Chiesa teed up Castrovilli to beat Sirigu.Torino captain Andrea Belotti thought he had grabbed a point deep into injury time but was ruled offside.                                                                                                                                                                                                                                                                                                                                                                                                                                                                                                                                                                                                  1\n",
       "Length: 2229, dtype: int64"
      ]
     },
     "execution_count": 37,
     "metadata": {},
     "output_type": "execute_result"
    }
   ],
   "source": [
    "df.value_counts()"
   ]
  },
  {
   "cell_type": "code",
   "execution_count": 38,
   "id": "8ee06c08",
   "metadata": {},
   "outputs": [],
   "source": [
    "from sklearn.preprocessing import LabelEncoder\n",
    "var_mod = ['label','text']\n",
    "le = LabelEncoder()\n",
    "for i in var_mod:\n",
    "    df[i] = le.fit_transform(df[i]).astype(int)"
   ]
  },
  {
   "cell_type": "code",
   "execution_count": 39,
   "id": "16afd0e0",
   "metadata": {},
   "outputs": [
    {
     "data": {
      "text/html": [
       "<div>\n",
       "<style scoped>\n",
       "    .dataframe tbody tr th:only-of-type {\n",
       "        vertical-align: middle;\n",
       "    }\n",
       "\n",
       "    .dataframe tbody tr th {\n",
       "        vertical-align: top;\n",
       "    }\n",
       "\n",
       "    .dataframe thead th {\n",
       "        text-align: right;\n",
       "    }\n",
       "</style>\n",
       "<table border=\"1\" class=\"dataframe\">\n",
       "  <thead>\n",
       "    <tr style=\"text-align: right;\">\n",
       "      <th></th>\n",
       "      <th>label</th>\n",
       "      <th>text</th>\n",
       "    </tr>\n",
       "  </thead>\n",
       "  <tbody>\n",
       "    <tr>\n",
       "      <th>0</th>\n",
       "      <td>1</td>\n",
       "      <td>1840</td>\n",
       "    </tr>\n",
       "    <tr>\n",
       "      <th>1</th>\n",
       "      <td>0</td>\n",
       "      <td>280</td>\n",
       "    </tr>\n",
       "    <tr>\n",
       "      <th>2</th>\n",
       "      <td>0</td>\n",
       "      <td>1903</td>\n",
       "    </tr>\n",
       "    <tr>\n",
       "      <th>3</th>\n",
       "      <td>1</td>\n",
       "      <td>1401</td>\n",
       "    </tr>\n",
       "    <tr>\n",
       "      <th>4</th>\n",
       "      <td>1</td>\n",
       "      <td>1402</td>\n",
       "    </tr>\n",
       "  </tbody>\n",
       "</table>\n",
       "</div>"
      ],
      "text/plain": [
       "   label  text\n",
       "0      1  1840\n",
       "1      0   280\n",
       "2      0  1903\n",
       "3      1  1401\n",
       "4      1  1402"
      ]
     },
     "execution_count": 39,
     "metadata": {},
     "output_type": "execute_result"
    }
   ],
   "source": [
    "df.head()"
   ]
  },
  {
   "cell_type": "code",
   "execution_count": null,
   "id": "c1253d09",
   "metadata": {},
   "outputs": [],
   "source": []
  }
 ],
 "metadata": {
  "kernelspec": {
   "display_name": "Python 3 (ipykernel)",
   "language": "python",
   "name": "python3"
  },
  "language_info": {
   "codemirror_mode": {
    "name": "ipython",
    "version": 3
   },
   "file_extension": ".py",
   "mimetype": "text/x-python",
   "name": "python",
   "nbconvert_exporter": "python",
   "pygments_lexer": "ipython3",
   "version": "3.9.13"
  }
 },
 "nbformat": 4,
 "nbformat_minor": 5
}
